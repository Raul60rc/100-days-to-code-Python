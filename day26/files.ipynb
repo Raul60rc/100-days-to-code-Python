{
 "cells": [
  {
   "cell_type": "code",
   "execution_count": 7,
   "metadata": {},
   "outputs": [
    {
     "name": "stdout",
     "output_type": "stream",
     "text": [
      "[3, 6, 5, 33, 12, 7, 42, 13]\n"
     ]
    }
   ],
   "source": [
    "with open(\"./file1.txt\", \"r\") as file1:\n",
    "    list1 = file1.readlines()\n",
    "    \n",
    "with open(\"./file2.txt\", \"r\") as file2:\n",
    "    list2 = file2.readlines()\n",
    "    \n",
    "result = [int(num) for num in list1 if num in list2]\n",
    "print(result)"
   ]
  }
 ],
 "metadata": {
  "kernelspec": {
   "display_name": "Python 3",
   "language": "python",
   "name": "python3"
  },
  "language_info": {
   "codemirror_mode": {
    "name": "ipython",
    "version": 3
   },
   "file_extension": ".py",
   "mimetype": "text/x-python",
   "name": "python",
   "nbconvert_exporter": "python",
   "pygments_lexer": "ipython3",
   "version": "3.11.5"
  },
  "orig_nbformat": 4
 },
 "nbformat": 4,
 "nbformat_minor": 2
}
