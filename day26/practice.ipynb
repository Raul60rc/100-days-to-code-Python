{
 "cells": [
  {
   "cell_type": "code",
   "execution_count": 4,
   "metadata": {},
   "outputs": [
    {
     "name": "stdout",
     "output_type": "stream",
     "text": [
      "['ALEX', 'BETH', 'CAROLINE', 'DAVID', 'ETHAN', 'FRANK', 'JOHN']\n"
     ]
    }
   ],
   "source": [
    "names = [\"Alex\",\"Beth\",\"Caroline\",\"David\",\"Ethan\",\"Frank\",\"John\"]\n",
    "short_names = [item.upper() for item in names if len(item) >=4 ]\n",
    "print(short_names)\n"
   ]
  },
  {
   "cell_type": "code",
   "execution_count": 11,
   "metadata": {},
   "outputs": [
    {
     "name": "stdout",
     "output_type": "stream",
     "text": [
      "{'Alex': 9, 'Beth': 70, 'Caroline': 18, 'David': 36, 'Ethan': 54, 'Frank': 90, 'John': 90}\n"
     ]
    }
   ],
   "source": [
    "import random\n",
    "names = [\"Alex\",\"Beth\",\"Caroline\",\"David\",\"Ethan\",\"Frank\",\"John\"]\n",
    "student_scores = {students:random.randint(1,100)  for students in names}\n",
    "\n"
   ]
  },
  {
   "cell_type": "code",
   "execution_count": 4,
   "metadata": {},
   "outputs": [
    {
     "name": "stdout",
     "output_type": "stream",
     "text": [
      "{'Beth': 70, 'Ethan': 54, 'Frank': 90, 'John': 90}\n"
     ]
    }
   ],
   "source": [
    "random_result = {'Alex': 9, 'Beth': 70, 'Caroline': 18, 'David': 36, 'Ethan': 54, 'Frank': 90, 'John': 90}\n",
    "passed_students = {student:score for (student,score) in random_result.items() if score >=50}\n",
    "print(passed_students)\n"
   ]
  }
 ],
 "metadata": {
  "kernelspec": {
   "display_name": "Python 3",
   "language": "python",
   "name": "python3"
  },
  "language_info": {
   "codemirror_mode": {
    "name": "ipython",
    "version": 3
   },
   "file_extension": ".py",
   "mimetype": "text/x-python",
   "name": "python",
   "nbconvert_exporter": "python",
   "pygments_lexer": "ipython3",
   "version": "3.11.6"
  },
  "orig_nbformat": 4
 },
 "nbformat": 4,
 "nbformat_minor": 2
}
