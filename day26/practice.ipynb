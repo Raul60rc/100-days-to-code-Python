{
 "cells": [
  {
   "cell_type": "code",
   "execution_count": 4,
   "metadata": {},
   "outputs": [
    {
     "name": "stdout",
     "output_type": "stream",
     "text": [
      "['ALEX', 'BETH', 'CAROLINE', 'DAVID', 'ETHAN', 'FRANK', 'JOHN']\n"
     ]
    }
   ],
   "source": [
    "names = [\"Alex\",\"Beth\",\"Caroline\",\"David\",\"Ethan\",\"Frank\",\"John\"]\n",
    "short_names = [item.upper() for item in names if len(item) >=4 ]\n",
    "print(short_names)\n"
   ]
  }
 ],
 "metadata": {
  "kernelspec": {
   "display_name": "Python 3",
   "language": "python",
   "name": "python3"
  },
  "language_info": {
   "codemirror_mode": {
    "name": "ipython",
    "version": 3
   },
   "file_extension": ".py",
   "mimetype": "text/x-python",
   "name": "python",
   "nbconvert_exporter": "python",
   "pygments_lexer": "ipython3",
   "version": "3.11.5"
  },
  "orig_nbformat": 4
 },
 "nbformat": 4,
 "nbformat_minor": 2
}
